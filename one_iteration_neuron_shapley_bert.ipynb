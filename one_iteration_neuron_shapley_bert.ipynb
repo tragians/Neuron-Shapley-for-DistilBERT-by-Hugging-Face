{
  "nbformat": 4,
  "nbformat_minor": 0,
  "metadata": {
    "colab": {
      "name": "one_iteration_neuron_shapley_bert.ipynb",
      "provenance": [],
      "collapsed_sections": []
    },
    "kernelspec": {
      "name": "python3",
      "display_name": "Python 3"
    },
    "language_info": {
      "name": "python"
    },
    "accelerator": "GPU"
  },
  "cells": [
    {
      "cell_type": "markdown",
      "metadata": {
        "id": "gk29I7-pKDi2"
      },
      "source": [
        "#### Initial Set Ups!!\n",
        "\n"
      ]
    },
    {
      "cell_type": "code",
      "metadata": {
        "id": "mv-QitTGkD7b"
      },
      "source": [
        "!pip install transformers\n",
        "!pip install datasets\n",
        "\n",
        "import os\n",
        "import sys\n",
        "import torch\n",
        "from google.colab import drive\n",
        "import numpy as np\n",
        "\n",
        "\n",
        "# initialise some parameters\n",
        "PATH_TO_MODEL_DIR = \"/content/gdrive/MyDrive/0db/\"\n",
        "CHECKPOINT = \"/content/gdrive/MyDrive/0db/distilbert_trained_model.pt\"\n",
        "NUM_SAMPLES = 64\n",
        "\n",
        "#Utilise GPU for training/testing, if available\n",
        "if torch.cuda.is_available():\n",
        "  device = torch.device(\"cuda\")\n",
        "  print(\"GPU Available: \", torch.cuda.get_device_name(0))\n",
        "else:\n",
        "  device = torch.device(\"cpu\")\n",
        "  print(\"No GPU Available, Switching To CPU.\")\n",
        "\n",
        "# mount google drive \n",
        "drive.mount('/content/gdrive')\n",
        "sys.path.append(PATH_TO_MODEL_DIR)\n",
        "# change current working directory to /0db, where are Tokenizer module is \n",
        "%cd \"/content/gdrive/MyDrive/0db/\""
      ],
      "execution_count": null,
      "outputs": []
    },
    {
      "cell_type": "markdown",
      "metadata": {
        "id": "m6Dx7ALRrfI7"
      },
      "source": [
        "#### Call cb_run_bert_one_iteration.py and run a number of iterations of Monte Carlo approximation to estimate Shapley values for selected neurons"
      ]
    },
    {
      "cell_type": "code",
      "metadata": {
        "id": "uko3oyxvrZZP"
      },
      "source": [
        "%%shell\n",
        "for i in $(seq 0 50)\n",
        "do\n",
        "  python cb_run_bert_one_iteration.py\n",
        "done"
      ],
      "execution_count": null,
      "outputs": []
    },
    {
      "cell_type": "markdown",
      "metadata": {
        "id": "MKjbj8FDryz1"
      },
      "source": [
        "#### Plot the results"
      ]
    },
    {
      "cell_type": "markdown",
      "metadata": {
        "id": "EI9LbI5GA0PR"
      },
      "source": [
        "##### Plot single experiment results"
      ]
    },
    {
      "cell_type": "code",
      "metadata": {
        "id": "cz2IJPm_50Dh"
      },
      "source": [
        "import matplotlib.pyplot as plt \n",
        "import pandas as pd\n",
        "\n",
        "# Plot single experiment results \n",
        "# provide experiment name and save in experiment_number\n",
        "experiment_number = 21\n",
        "results_dir = \"/content/gdrive/MyDrive/0db/NShap/results/distilBERT/cb_Bernstein_0.2_64\"\n",
        "\n",
        "vals_txt = 'vals_' + str(experiment_number) + '.txt'\n",
        "vals_path = os.path.join(results_dir, vals_txt)\n",
        "\n",
        "# Read saved values for each player (contributions)\n",
        "\n",
        "vals = pd.read_csv(vals_path, header = None).T\n",
        "vals.columns = ['vals']\n",
        "vals = vals['vals'].to_list()\n",
        "\n",
        "# Seperate positive and negative contributions for better visualisation\n",
        "\n",
        "# find indexes of positive and negative values\n",
        "index_positive = [i for i, val in enumerate(vals) if val > 0.0]\n",
        "index_negative = [i for i, val in enumerate(vals) if val < 0.0]\n",
        "\n",
        "# save positive and negative values in seperate lists\n",
        "val_pos = [float(val) for val in vals if float(val)>0.0]\n",
        "val_neg = [float(val) for val in vals if float(val)<0.0]\n",
        "\n"
      ],
      "execution_count": null,
      "outputs": []
    },
    {
      "cell_type": "code",
      "metadata": {
        "id": "MII1W2MpWoVA"
      },
      "source": [
        "# Print non zero calculated contributions\n",
        "print(val_pos)\n",
        "print(val_neg)\n",
        "print(len(val_pos))\n",
        "print(len(val_neg))"
      ],
      "execution_count": null,
      "outputs": []
    },
    {
      "cell_type": "code",
      "metadata": {
        "colab": {
          "base_uri": "https://localhost:8080/",
          "height": 421
        },
        "id": "sMFf5mQf7vfN",
        "outputId": "ad7aece9-8229-4468-eae6-2d26d2de767d"
      },
      "source": [
        "# generate plot for one individual execution\n",
        "fig, ax = plt.subplots()\n",
        "fig.set_size_inches(9,6)\n",
        "ax.barh(index_positive, val_pos, height = 3.5, color = \"m\")\n",
        "ax.barh(index_negative, val_neg, height = 3.5)\n",
        "ax.legend([\"Positive contribution\", \"Negative Contribution\"])\n",
        "ax.set_xlabel(\"Single neuron contribution\")\n",
        "ax.set_ylabel(\"Neuron ID\")\n",
        "ax.set_title(\"Selected neurons in pre_classifier\")"
      ],
      "execution_count": null,
      "outputs": [
        {
          "output_type": "execute_result",
          "data": {
            "text/plain": [
              "Text(0.5, 1.0, 'Selected neurons in pre_classifier')"
            ]
          },
          "metadata": {
            "tags": []
          },
          "execution_count": 9
        },
        {
          "output_type": "display_data",
          "data": {
            "image/png": "[encoded data removed]",
            "text/plain": [
              "<Figure size 648x432 with 1 Axes>"
            ]
          },
          "metadata": {
            "tags": [],
            "needs_background": "light"
          }
        }
      ]
    },
    {
      "cell_type": "markdown",
      "metadata": {
        "id": "omPNjCsJA-NN"
      },
      "source": [
        "##### Compute marginal contributions using the results from a selected number of experiments"
      ]
    },
    {
      "cell_type": "code",
      "metadata": {
        "id": "cPoCk_bjIQxk"
      },
      "source": [
        "results = [saved for saved in os.listdir(results_dir)\n",
        "           if 'vals' in saved]\n",
        "#print(len(results))\n",
        "\n",
        "sums = np.zeros(len(vals))\n",
        "\n",
        "# start from file #2\n",
        "for i in range(2, len(results)):\n",
        "  #print(i)\n",
        "  \n",
        "  vals_txt = 'vals_' + str(i) + '.txt'\n",
        "  vals_path = os.path.join(results_dir, vals_txt)\n",
        "  \n",
        "  # Read saved values for each player (contributions)\n",
        "\n",
        "  vals = pd.read_csv(vals_path, header = None).T\n",
        "  vals.columns = ['vals']\n",
        "  vals = vals['vals'].to_numpy()\n",
        "\n",
        "  sums +=vals \n",
        "\n",
        "# compute marginal contributions (in this case moving average)\n",
        "sums = sums/ (len(vals)-2)\n",
        "#print(sums)\n",
        "\n",
        "# Seperate positive and negative marginal contributions for better visualisation\n",
        "\n",
        "# find indexes of positive and negative values\n",
        "index_positive = [i for i, val in enumerate(sums) if val > 0.0]\n",
        "index_negative = [i for i, val in enumerate(sums) if val < 0.0]\n",
        "\n",
        "# save positive and negative values in seperate lists\n",
        "val_pos = [float(val) for val in sums if float(val)>0.0]\n",
        "val_neg = [float(val) for val in sums if float(val)<0.0]\n"
      ],
      "execution_count": null,
      "outputs": []
    },
    {
      "cell_type": "code",
      "metadata": {
        "id": "2dI8ocepPZO5"
      },
      "source": [
        "# Print non negative calculated contributions\n",
        "print(val_pos)\n",
        "print(val_neg)\n",
        "print(len(val_pos))\n",
        "print(len(val_neg))"
      ],
      "execution_count": null,
      "outputs": []
    },
    {
      "cell_type": "markdown",
      "metadata": {
        "id": "omczip9Y4rIg"
      },
      "source": [
        "##### Plot marginal contributions "
      ]
    },
    {
      "cell_type": "code",
      "metadata": {
        "colab": {
          "base_uri": "https://localhost:8080/",
          "height": 421
        },
        "id": "G0Fr6f8IPdnM",
        "outputId": "d4a71179-ebac-47ae-fab1-b4ed89e17bdb"
      },
      "source": [
        "# generate plot for multiple executions\n",
        "fig, ax = plt.subplots()\n",
        "fig.set_size_inches(9,6)\n",
        "ax.barh(index_positive, val_pos, height = 3.5, color = \"m\")\n",
        "ax.barh(index_negative, val_neg, height = 3.5)\n",
        "ax.legend([\"Positive contribution\", \"Negative Contribution\"])\n",
        "ax.set_xlabel(\"Single neuron contribution\")\n",
        "ax.set_ylabel(\"Neuron ID\")\n",
        "ax.set_title(\"Selected neurons in pre_classifier\")"
      ],
      "execution_count": null,
      "outputs": [
        {
          "output_type": "execute_result",
          "data": {
            "text/plain": [
              "Text(0.5, 1.0, 'Selected neurons in pre_classifier')"
            ]
          },
          "metadata": {
            "tags": []
          },
          "execution_count": 11
        },
        {
          "output_type": "display_data",
          "data": {
            "image/png": "[encoded data removed]",
            "text/plain": [
              "<Figure size 648x432 with 1 Axes>"
            ]
          },
          "metadata": {
            "tags": [],
            "needs_background": "light"
          }
        }
      ]
    }
  ]
}